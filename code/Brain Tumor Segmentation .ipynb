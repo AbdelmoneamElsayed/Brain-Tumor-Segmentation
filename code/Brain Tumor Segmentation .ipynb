{
 "cells": [
  {
   "cell_type": "code",
   "execution_count": 1,
   "metadata": {},
   "outputs": [],
   "source": [
    "import cv2\n",
    "import numpy as np\n",
    "import matplotlib.pyplot as plt\n",
    "import glob\n",
    "from PIL import Image"
   ]
  },
  {
   "cell_type": "code",
   "execution_count": 24,
   "metadata": {},
   "outputs": [],
   "source": [
    "# Path\n",
    "path3= glob.glob(\"C:/Users/abdel/medical/full dataset/*.jpg\")"
   ]
  },
  {
   "cell_type": "code",
   "execution_count": 22,
   "metadata": {},
   "outputs": [
    {
     "name": "stderr",
     "output_type": "stream",
     "text": [
      "<ipython-input-22-b92a9f41d62c>:29: RuntimeWarning: invalid value encountered in true_divide\n",
      "  label_hue = np.uint8(179*labels_im/np.max(labels_im))\n"
     ]
    }
   ],
   "source": [
    "count = 0\n",
    "for image in path3:\n",
    "    input_img = np.array(Image.open(image))\n",
    "    if(len(input_img.shape) > 2):\n",
    "        # Gray Scale\n",
    "        gray_scale = cv2.cvtColor(input_img,cv2.COLOR_BGR2GRAY)\n",
    "        # median Filter\n",
    "        median = cv2.medianBlur(gray_scale, 7)\n",
    "        # Binary Threshold\n",
    "        ThValue, Threshold = cv2.threshold(median, 157, 255, cv2.THRESH_BINARY)\n",
    "        # Kernel\n",
    "        SE = np.ones((3,3))\n",
    "        # Morphological Operation\n",
    "        opening_img = cv2.morphologyEx(Threshold , cv2.MORPH_OPEN ,SE )\n",
    "\n",
    "        closing_img = cv2.morphologyEx(opening_img , cv2.MORPH_CLOSE ,SE )\n",
    "        # Connected Components \n",
    "        num_labels, labels_im, stats, centroids = cv2.connectedComponentsWithStats(closing_img,connectivity=4)\n",
    "\n",
    "        for k in range(1,num_labels):\n",
    "            pts = np.where(labels_im == k)\n",
    "            size = stats[k, cv2.CC_STAT_AREA]\n",
    "            if size > 500 and size < 10000:\n",
    "                labels_im[pts] = labels_im[pts]\n",
    "\n",
    "            else:\n",
    "                labels_im[pts] =0\n",
    "\n",
    "        label_hue = np.uint8(179*labels_im/np.max(labels_im))\n",
    "        blank_ch = 255*np.ones_like(label_hue)\n",
    "        labeled_img = cv2.merge([label_hue, blank_ch, blank_ch])\n",
    "        labeled_img = cv2.cvtColor(labeled_img, cv2.COLOR_HSV2BGR)                                  \n",
    "        labeled_img [label_hue==0] = 0\n",
    "        \n",
    "        gray1 = cv2.cvtColor(labeled_img , cv2.COLOR_BGR2GRAY)\n",
    "        gray2 = gray1 * gray_scale   \n",
    "        opening_img1 = cv2.morphologyEx(gray2 , cv2.MORPH_OPEN ,SE )\n",
    "        closing_img1 = cv2.morphologyEx(opening_img1 , cv2.MORPH_CLOSE ,SE )\n",
    "        b = closing_img1 * 5\n",
    "        \n",
    "        # Save Data\n",
    "        cv2.imwrite('C:/Users/abdel/medical/result/median/' + str(count) + '.jpg' , median)\n",
    "        cv2.imwrite('C:/Users/abdel/medical/result/threshold/' + str(count) + '.jpg' , Threshold)\n",
    "        cv2.imwrite('C:/Users/abdel/medical/result/opening/' + str(count) + '.jpg' , opening_img)\n",
    "        cv2.imwrite('C:/Users/abdel/medical/result/closing/' + str(count) + '.jpg' , closing_img)\n",
    "        cv2.imwrite('C:/Users/abdel/medical/result/labeled image/' + str(count) + '.jpg' , labeled_img)\n",
    "        \n",
    "        \n",
    "    if(len(labeled_img[labeled_img == 255]) > 5):\n",
    "        cv2.imwrite('C:/Users/abdel/medical/result/classification/tumor/' + str(count) + '.jpg' , b)\n",
    "    else:\n",
    "        cv2.imwrite('C:/Users/abdel/medical/result/classification/notumor/' + str(count) + '.jpg' , b)\n",
    "    count = count + 1"
   ]
  },
  {
   "cell_type": "code",
   "execution_count": 13,
   "metadata": {},
   "outputs": [
    {
     "name": "stdout",
     "output_type": "stream",
     "text": [
      "71.42857142857143\n"
     ]
    }
   ],
   "source": [
    "accuracy  = (32 + 33) / (32 + 33 + 26 + 0 ) * 100\n",
    "print(accuracy)"
   ]
  },
  {
   "cell_type": "code",
   "execution_count": null,
   "metadata": {},
   "outputs": [],
   "source": []
  },
  {
   "cell_type": "code",
   "execution_count": null,
   "metadata": {},
   "outputs": [],
   "source": []
  },
  {
   "cell_type": "code",
   "execution_count": null,
   "metadata": {},
   "outputs": [],
   "source": []
  },
  {
   "cell_type": "code",
   "execution_count": null,
   "metadata": {},
   "outputs": [],
   "source": []
  }
 ],
 "metadata": {
  "kernelspec": {
   "display_name": "Python 3",
   "language": "python",
   "name": "python3"
  },
  "language_info": {
   "codemirror_mode": {
    "name": "ipython",
    "version": 3
   },
   "file_extension": ".py",
   "mimetype": "text/x-python",
   "name": "python",
   "nbconvert_exporter": "python",
   "pygments_lexer": "ipython3",
   "version": "3.8.5"
  }
 },
 "nbformat": 4,
 "nbformat_minor": 4
}
